{
  "cells": [
    {
      "cell_type": "markdown",
      "metadata": {
        "id": "view-in-github",
        "colab_type": "text"
      },
      "source": [
        "<a href=\"https://colab.research.google.com/github/miyoungheo/my181112/blob/master/Lab1_1_1_Intro_ipynb%EC%9D%98_%EC%82%AC%EB%B3%B8.ipynb\" target=\"_parent\"><img src=\"https://colab.research.google.com/assets/colab-badge.svg\" alt=\"Open In Colab\"/></a>"
      ]
    },
    {
      "cell_type": "markdown",
      "metadata": {
        "id": "PMuN_nEY1qFr"
      },
      "source": [
        "# Hello Notebook!\n",
        "* Jupyter Notebook에 내장된 마크다운 셀(markdown cell)입니다\n",
        "* 코드의 흐름이나 Docstring 등 여러 줄 주석을 효과적으로 시각화 할 수 있습니다\n",
        "* **[자료 1]** https://heropy.blog/2017/09/30/markdown/ **[자료 2]** https://gist.github.com/ihoneymon/652be052a0727ad59601"
      ]
    },
    {
      "cell_type": "code",
      "execution_count": null,
      "metadata": {
        "id": "s_Pu6n5i2aa7"
      },
      "outputs": [],
      "source": [
        "# Code Cell!\n",
        "# Ctrl+Enter 로 해당 코드 셀 실행\n",
        "a, b = 3, 2\n",
        "print(a + b)"
      ]
    },
    {
      "cell_type": "code",
      "execution_count": null,
      "metadata": {
        "id": "Gm956di9_1ZQ"
      },
      "outputs": [],
      "source": [
        "# 각 셀은 한번에 실행할 단위를 뜻함\n",
        "# 실행 이후에도 메모리는 그대로 유지되어 다른 셀의 실행에 영향을 줌 (0, 0 로 재시작)\n",
        "a += 3 # a = a + 3\n",
        "b -= 1 # b = b - 1\n",
        "print(a+b)"
      ]
    },
    {
      "cell_type": "markdown",
      "metadata": {
        "id": "sXmwhWyrDbGg"
      },
      "source": [
        "# 시스템 명령어 실행\n",
        "* **!(command)** 실행으로 터미널에서 명령어를 실행 시 출력 결과를 확인할 수 있음"
      ]
    },
    {
      "cell_type": "code",
      "execution_count": null,
      "metadata": {
        "id": "WM3qsQKh_3Wg"
      },
      "outputs": [],
      "source": [
        "# !cat /etc/issue.net  # OS\n",
        "# !cat /proc/cpuinfo   # CPU\n",
        "# !cat /proc/meminfo   # Memory\n",
        "# !df -h               # Disk\n",
        "# !nvidia-smi          # GPU"
      ]
    },
    {
      "cell_type": "markdown",
      "metadata": {
        "id": "t2Umj_4UUARR"
      },
      "source": [
        "# Local에서 파일 가져오기"
      ]
    },
    {
      "cell_type": "code",
      "execution_count": null,
      "metadata": {
        "id": "SofddUjuFHLE"
      },
      "outputs": [],
      "source": [
        "!pwd 'drive/My Drive/Colab Notebooks'"
      ]
    },
    {
      "cell_type": "code",
      "execution_count": null,
      "metadata": {
        "id": "u2JTqwk5Tn8f"
      },
      "outputs": [],
      "source": [
        "from google.colab import files\n",
        "file_uploaded = files.upload()"
      ]
    },
    {
      "cell_type": "code",
      "execution_count": null,
      "metadata": {
        "id": "h8avS2EHX329"
      },
      "outputs": [],
      "source": [
        "import io\n",
        "from PIL import Image\n",
        "img = Image.open(io.BytesIO(file_uploaded['test.jpg']))\n",
        "w, h = img.size\n",
        "w /= 5\n",
        "h /= 5\n",
        "img = img.resize((int(w), int(h)))\n",
        "img.show()"
      ]
    },
    {
      "cell_type": "markdown",
      "metadata": {
        "id": "5wj6Tk6-ESUJ"
      },
      "source": [
        "# 구글 드라이브 연동\n",
        "* 하단 코드 실행으로 구글 드라이브 내의 문서를 Colab에서 접근 가능하도록 연동\n",
        "* 좌측 화살표 -> 파일 -> content/drive/My Drive 폴더 안에 드라이브 연동\n",
        "* 가상머신 상에서 현재 경로는 `/content`"
      ]
    },
    {
      "cell_type": "code",
      "execution_count": null,
      "metadata": {
        "id": "9wc_oHn9EbOv"
      },
      "outputs": [],
      "source": [
        "from google.colab import drive\n",
        "drive.mount('/content/drive')"
      ]
    },
    {
      "cell_type": "code",
      "execution_count": null,
      "metadata": {
        "id": "WiEJC6wXFBOy"
      },
      "outputs": [],
      "source": [
        "!pwd"
      ]
    },
    {
      "cell_type": "code",
      "execution_count": null,
      "metadata": {
        "id": "XbtbyoYmdSrc"
      },
      "outputs": [],
      "source": [
        "from PIL import Image\n",
        "img = Image.open('/content/test.jpg')\n",
        "w, h = img.size\n",
        "w /= 5\n",
        "h /= 5\n",
        "img = img.resize((int(w), int(h)))\n",
        "img.show()"
      ]
    },
    {
      "cell_type": "markdown",
      "metadata": {
        "id": "EGGNfGx5HUQU"
      },
      "source": [
        "# Github 연동\n",
        "* 전체 repository를 clone하고 싶은 경우\n",
        "  * %cd /your/desired/path\n",
        "  * !git clone project.git\n",
        "* github repository에 파일을 올리는 방법\n",
        "  * 파일 - Github에 사본 저장 선택"
      ]
    },
    {
      "cell_type": "code",
      "execution_count": null,
      "metadata": {
        "id": "J4JrfB8TSfn5"
      },
      "outputs": [],
      "source": [
        "%cd 'drive/My Drive/Colab Notebooks'\n",
        "!pwd"
      ]
    },
    {
      "cell_type": "code",
      "execution_count": null,
      "metadata": {
        "id": "p7vBSIvrSos7"
      },
      "outputs": [],
      "source": [
        "!git clone https://github.com/dshan4585/AI_Expert_Lecture_Files.git test\n",
        "%cd test"
      ]
    }
  ],
  "metadata": {
    "accelerator": "GPU",
    "colab": {
      "provenance": [],
      "gpuType": "T4",
      "include_colab_link": true
    },
    "kernelspec": {
      "display_name": "Python 3",
      "name": "python3"
    },
    "language_info": {
      "codemirror_mode": {
        "name": "ipython",
        "version": 3
      },
      "file_extension": ".py",
      "mimetype": "text/x-python",
      "name": "python",
      "nbconvert_exporter": "python",
      "pygments_lexer": "ipython3",
      "version": "3.10.12"
    }
  },
  "nbformat": 4,
  "nbformat_minor": 0
}